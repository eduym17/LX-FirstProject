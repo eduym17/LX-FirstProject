{
 "cells": [
  {
   "cell_type": "code",
   "execution_count": 3,
   "metadata": {},
   "outputs": [],
   "source": [
    "vel = input(\"¿A qué velocidad viaja el asteroide? En km/s: \\n\")"
   ]
  },
  {
   "cell_type": "code",
   "execution_count": 4,
   "metadata": {},
   "outputs": [
    {
     "name": "stdout",
     "output_type": "stream",
     "text": [
      "¡Advertencia! Asteroide de gran tamaño acercándose a gran velocidad, colisión podría ser fatal.\n"
     ]
    }
   ],
   "source": [
    "if int(vel) >= 25:\n",
    "    size = input(\"¿Que tamaño tiene el asteroide? En m: (diámetro aproximado) \\n\")\n",
    "    if int(size) > 1000:\n",
    "        print(\"¡Destrucción total! Asteroide de gran tamaño acercándose a gran velocidad, los daños serán fatales para la humanidad.\")\n",
    "    elif int(size) > 25 and int(size) < 1000:\n",
    "        print(\"¡Advertencia! Asteroide de gran tamaño acercándose a gran velocidad, colisión podría ser fatal.\")\n",
    "    elif int(size) < 25:\n",
    "        print(\"¡Atención, terrestres! Asteroide de tamaño pequeño acercándose a gran velocidad, los daños podrían ser graves.\")\n",
    "elif int(vel) < 25 and int(vel) >= 20:\n",
    "    print(\"¡Hay una luz en el cielo! Manténte alerta.\")\n",
    "else:\n",
    "    print(\"Todo transcurre con normalidad, ausencia de amenazas.\")"
   ]
  }
 ],
 "metadata": {
  "interpreter": {
   "hash": "4377b27f8e4686739d02d62161872a63796ae6f0ed9f0699fce35597ef48d50c"
  },
  "kernelspec": {
   "display_name": "Python 3.10.1 64-bit",
   "language": "python",
   "name": "python3"
  },
  "language_info": {
   "codemirror_mode": {
    "name": "ipython",
    "version": 3
   },
   "file_extension": ".py",
   "mimetype": "text/x-python",
   "name": "python",
   "nbconvert_exporter": "python",
   "pygments_lexer": "ipython3",
   "version": "3.10.1"
  },
  "orig_nbformat": 4
 },
 "nbformat": 4,
 "nbformat_minor": 2
}
