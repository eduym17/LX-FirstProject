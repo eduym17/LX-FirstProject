{
 "cells": [
  {
   "cell_type": "markdown",
   "metadata": {},
   "source": [
    "# Exercise 1"
   ]
  },
  {
   "cell_type": "code",
   "execution_count": 9,
   "metadata": {},
   "outputs": [
    {
     "name": "stdout",
     "output_type": "stream",
     "text": [
      "\n",
      "EXERCISE 1:\n",
      "Print sentences array:  ['Interesting facts about the Moon', \"The Moon is Earth's only satellite\", 'There are several interesting facts about the Moon and how it affects life here on Earth', 'On average, the Moon moves 4cm away from the Earth every year', 'This yearly drift is not significant enough to cause immediate effects on Earth', 'The highest daylight temperature of the Moon is 127 C.']\n"
     ]
    }
   ],
   "source": [
    "text = \"\"\"Interesting facts about the Moon. The Moon is Earth's only satellite. There are several interesting facts about the Moon and how it affects life here on Earth. On average, the Moon moves 4cm away from the Earth every year. This yearly drift is not significant enough to cause immediate effects on Earth. The highest daylight temperature of the Moon is 127 C.\"\"\"\n",
    "\n",
    "#Divide el texto en cada oración. Al parecer, cada oración está separada por '. '.\n",
    "print(\"\\nEXERCISE 1:\")\n",
    "sentences = text.split('. ')\n",
    "print(\"Print sentences array: \",sentences)"
   ]
  },
  {
   "cell_type": "markdown",
   "metadata": {},
   "source": [
    "### Coincidences in text"
   ]
  },
  {
   "cell_type": "code",
   "execution_count": 10,
   "metadata": {},
   "outputs": [
    {
     "name": "stdout",
     "output_type": "stream",
     "text": [
      "\n",
      "Found clue coincidences in array: \n",
      "On average, the Moon moves 4cm away from the Earth every year\n",
      "The highest daylight temperature of the Moon is 127 C.\n"
     ]
    }
   ],
   "source": [
    "#Define las palabras pista\n",
    "clues = [\"average\", \"temperature\", \"distance\"]\n",
    "\n",
    "#Ciclo para recorrer la cadena\n",
    "print(\"\\nFound clue coincidences in array: \")\n",
    "for sentence in sentences:\n",
    "    for clue in clues:\n",
    "        if clue in sentence:\n",
    "            print(sentence)\n",
    "            break"
   ]
  },
  {
   "cell_type": "markdown",
   "metadata": {},
   "source": [
    "### Replacing data"
   ]
  },
  {
   "cell_type": "code",
   "execution_count": 11,
   "metadata": {},
   "outputs": [
    {
     "name": "stdout",
     "output_type": "stream",
     "text": [
      "\n",
      "Replacement of unit in sentences: \n",
      "On average, the Moon moves 4cm away from the Earth every year\n",
      "The highest daylight temperature of the Moon is 127 Celsius.\n",
      "\n",
      "\n"
     ]
    }
   ],
   "source": [
    "#Ciclo para cambiar C a Celsius\n",
    "print(\"\\nReplacement of unit in sentences: \")\n",
    "for sentence in sentences:\n",
    "    for clue in clues:\n",
    "        if clue in sentence:\n",
    "            print(sentence.replace('C', 'Celsius'))\n",
    "            break\n",
    "print(\"\\n\")"
   ]
  },
  {
   "cell_type": "markdown",
   "metadata": {},
   "source": [
    "# Exercise 2"
   ]
  },
  {
   "cell_type": "markdown",
   "metadata": {},
   "source": [
    "### First data "
   ]
  },
  {
   "cell_type": "code",
   "execution_count": 12,
   "metadata": {},
   "outputs": [],
   "source": [
    "# Datos con los que vas a trabajar\n",
    "satellite = \"Moon\"\n",
    "gravity = 0.00162 # in km/s^2 for Moon\n",
    "planet = \"Earth\""
   ]
  },
  {
   "cell_type": "code",
   "execution_count": 13,
   "metadata": {},
   "outputs": [],
   "source": [
    "#Creamos el título\n",
    "title = f\"Know more about {satellite} gravity, satellite of {planet}.\"\n",
    "\n",
    "#Creamos la plantilla de datos\n",
    "facts = f\"\"\"{'-'*70}\n",
    "Planet name: {planet}.\n",
    "Gravity in {satellite} equals to: {round((gravity*1000), 2)} m/s^2.\n",
    "\"\"\""
   ]
  },
  {
   "cell_type": "code",
   "execution_count": 14,
   "metadata": {},
   "outputs": [
    {
     "name": "stdout",
     "output_type": "stream",
     "text": [
      " Know More About Moon Gravity, Satellite Of Earth.\n",
      "----------------------------------------------------------------------\n",
      "Planet name: Earth.\n",
      "Gravity in Moon equals to: 1.62 m/s^2.\n",
      "\n",
      "\n"
     ]
    }
   ],
   "source": [
    "#Unión de ambas cadenas\n",
    "chainsjoin = f\"\"\" {title.title()}\n",
    "{facts}\n",
    "\"\"\"\n",
    "print(chainsjoin) #Impresión del resultado en pantalla"
   ]
  },
  {
   "cell_type": "markdown",
   "metadata": {},
   "source": [
    "### New data"
   ]
  },
  {
   "cell_type": "code",
   "execution_count": 15,
   "metadata": {},
   "outputs": [
    {
     "name": "stdout",
     "output_type": "stream",
     "text": [
      "\n",
      "Template verification: \n",
      " Know More About Moon Gravity, Satellite Of Earth.\n",
      "----------------------------------------------------------------------\n",
      "Planet name: Earth.\n",
      "Gravity in Moon equals to: 1.62 m/s^2.\n",
      "\n",
      "\n"
     ]
    }
   ],
   "source": [
    "#New facts\n",
    "satellite = 'Ganimedes'\n",
    "gravity  = 0.00143 # in km/s^2 for Ganímedes\n",
    "planet = 'Mars'\n",
    "\n",
    "#Comprobamos la plantilla con facts anteriores\n",
    "print(\"\\nTemplate verification: \")\n",
    "print(chainsjoin)"
   ]
  },
  {
   "cell_type": "markdown",
   "metadata": {},
   "source": [
    "### Replacing data"
   ]
  },
  {
   "cell_type": "code",
   "execution_count": 16,
   "metadata": {},
   "outputs": [
    {
     "name": "stdout",
     "output_type": "stream",
     "text": [
      "\n",
      "Updated facts: \n",
      "\n",
      "Know more about Ganimedes gravity, satellite of Mars.\n",
      "-------------------------------------------------------------------------------\n",
      "Planet name: Mars.\n",
      "Gravity in Ganimedes equals to: 1.43 m/s^2.\n",
      "\n"
     ]
    }
   ],
   "source": [
    "#Añadimos nuevos facts:\n",
    "print(\"\\nUpdated facts: \")\n",
    "newfacts = f\"\"\"\n",
    "Know more about {satellite} gravity, satellite of {planet}.\n",
    "-------------------------------------------------------------------------------\n",
    "Planet name: {planet}.\n",
    "Gravity in {satellite} equals to: {round(gravity*1000, 2)} m/s^2.\n",
    "\"\"\"\n",
    "print(newfacts)"
   ]
  }
 ],
 "metadata": {
  "interpreter": {
   "hash": "4377b27f8e4686739d02d62161872a63796ae6f0ed9f0699fce35597ef48d50c"
  },
  "kernelspec": {
   "display_name": "Python 3.10.1 64-bit",
   "language": "python",
   "name": "python3"
  },
  "language_info": {
   "codemirror_mode": {
    "name": "ipython",
    "version": 3
   },
   "file_extension": ".py",
   "mimetype": "text/x-python",
   "name": "python",
   "nbconvert_exporter": "python",
   "pygments_lexer": "ipython3",
   "version": "3.10.1"
  },
  "orig_nbformat": 4
 },
 "nbformat": 4,
 "nbformat_minor": 2
}
