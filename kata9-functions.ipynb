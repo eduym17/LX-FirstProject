{
 "cells": [
  {
   "cell_type": "markdown",
   "metadata": {},
   "source": [
    "# Exercise 1"
   ]
  },
  {
   "cell_type": "code",
   "execution_count": 7,
   "metadata": {},
   "outputs": [
    {
     "name": "stdout",
     "output_type": "stream",
     "text": [
      "There are 60 fuel liters available, this means there is an average of 20.0 liters in each tank.\n",
      "Main tank: 10 l, external tank: 20 l, hydrogen tank: 30 l.\n"
     ]
    }
   ],
   "source": [
    "def fuelreport(tank1, tank2, tank3):\n",
    "    mean = meanvalue(tank1, tank2, tank3)\n",
    "    return (f'There are {tank1 + tank2 + tank3} fuel liters available, this means there is an average of {mean} liters in each tank.\\nMain tank: {tank1} l, external tank: {tank2} l, hydrogen tank: {tank3} l.')\n",
    "\n",
    "def meanvalue(tank1, tank2, tank3):\n",
    "    return((tank1 + tank2 + tank3) / 3)\n",
    "\n",
    "print(fuelreport(10, 20, 30))"
   ]
  },
  {
   "cell_type": "markdown",
   "metadata": {},
   "source": [
    "# Exercise 2"
   ]
  },
  {
   "cell_type": "code",
   "execution_count": 10,
   "metadata": {},
   "outputs": [
    {
     "name": "stdout",
     "output_type": "stream",
     "text": [
      "This is a mission to Mars, with an expected flight time of 15 hours starting at 10 hours. It has 50000 gallons of fuel available.\n"
     ]
    }
   ],
   "source": [
    "def missionreport(launchtime, flighttime, destination, exttank, maintank):\n",
    "    return(f'This is a mission to {destination}, with an expected flight time of {flighttime} hours starting at {launchtime} hours. It has {exttank + maintank} gallons of fuel available.')\n",
    "\n",
    "print(missionreport(10, 15, 'Mars', 20000, 30000))"
   ]
  },
  {
   "cell_type": "code",
   "execution_count": 19,
   "metadata": {},
   "outputs": [
    {
     "name": "stdout",
     "output_type": "stream",
     "text": [
      "This is a mission to Moon, with an expected total flight time of 76 hours (Travel 1: 10, travel 2: 15, final destiny: 51 hours).\n",
      "It has 500000 gallons of fuel available (Main tank: 300000 gallons, external tank: 200000 gallons).\n"
     ]
    }
   ],
   "source": [
    "def missionreport(destination, *time, **fuel):\n",
    "    return(f\"This is a mission to {destination}, with an expected total flight time of {sum(time)} hours (Travel 1: {time[0]}, travel 2: {time[1]}, final destiny: {time[2]} hours).\\nIt has {sum(fuel.values())} gallons of fuel available (Main tank: {fuel['main']} gallons, external tank: {fuel['external']} gallons).\")\n",
    "\n",
    "print(missionreport(\"Moon\", 10, 15, 51, main=300000, external=200000))"
   ]
  },
  {
   "cell_type": "code",
   "execution_count": 26,
   "metadata": {},
   "outputs": [
    {
     "name": "stdout",
     "output_type": "stream",
     "text": [
      "This is a mission to Moon, with an expected total flight time of 76 hours (Travel 1: 10, travel 2: 15, final destiny: 51 hours).\n",
      "It has 500000 gallons of fuel available. Main tank has 300000 gallons left. External tank has 200000 gallons left.\n"
     ]
    }
   ],
   "source": [
    "def missionreport(destination, *time, **fuel):\n",
    "    text = (f\"This is a mission to {destination}, with an expected total flight time of {sum(time)} hours (Travel 1: {time[0]}, travel 2: {time[1]}, final destiny: {time[2]} hours).\\nIt has {sum(fuel.values())} gallons of fuel available.\")\n",
    "\n",
    "    for tank, content in fuel.items():\n",
    "        text += f\" {tank.capitalize()} tank has {content} gallons left.\"\n",
    "    return text\n",
    "\n",
    "print(missionreport(\"Moon\", 10, 15, 51, main=300000, external=200000))"
   ]
  }
 ],
 "metadata": {
  "interpreter": {
   "hash": "4377b27f8e4686739d02d62161872a63796ae6f0ed9f0699fce35597ef48d50c"
  },
  "kernelspec": {
   "display_name": "Python 3.10.1 64-bit",
   "language": "python",
   "name": "python3"
  },
  "language_info": {
   "codemirror_mode": {
    "name": "ipython",
    "version": 3
   },
   "file_extension": ".py",
   "mimetype": "text/x-python",
   "name": "python",
   "nbconvert_exporter": "python",
   "pygments_lexer": "ipython3",
   "version": "3.10.1"
  },
  "orig_nbformat": 4
 },
 "nbformat": 4,
 "nbformat_minor": 2
}
