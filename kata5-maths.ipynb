{
 "cells": [
  {
   "cell_type": "markdown",
   "metadata": {},
   "source": [
    "# Crear variables para almacenar las dos distancias\n",
    "## Distancias respecto del Sol como punto base"
   ]
  },
  {
   "cell_type": "markdown",
   "metadata": {},
   "source": [
    "### Exercise 1\n",
    "#### Crear variables para almacenar las dos distancias. Distancias respecto del Sol como punto base"
   ]
  },
  {
   "cell_type": "code",
   "execution_count": 4,
   "metadata": {},
   "outputs": [
    {
     "name": "stdout",
     "output_type": "stream",
     "text": [
      "The distance among Earth and Jupiter is: 628949330 km.\n",
      "\n"
     ]
    }
   ],
   "source": [
    "\n",
    "earthdist = 149597870 #km from Sun\n",
    "jupiterdist = 778547200 #km from Sun\n",
    "\n",
    "#Calcular la distancia entre planetas\n",
    "print(\"The distance among Earth and Jupiter is:\", abs(earthdist - jupiterdist), \"km.\\n\")"
   ]
  },
  {
   "cell_type": "markdown",
   "metadata": {},
   "source": [
    "### Exercise 2"
   ]
  },
  {
   "cell_type": "code",
   "execution_count": 2,
   "metadata": {},
   "outputs": [],
   "source": [
    "nameone = input(\"What's the name of the first planet? \")\n",
    "distanceone = input(f\"What's the distance from {nameone} to Sun in km? \")\n",
    "nametwo = input(\"What's the name of the second planet? \")\n",
    "distancetwo = input(f\"What's the distance from {nametwo} to Sun in km? \")"
   ]
  },
  {
   "cell_type": "code",
   "execution_count": 3,
   "metadata": {},
   "outputs": [
    {
     "name": "stdout",
     "output_type": "stream",
     "text": [
      "\n",
      "The distance among Venus and Mars is:  1000 km. \n",
      "\n",
      "The last value equals to:  621.37  miles. \n",
      "\n"
     ]
    }
   ],
   "source": [
    "difference = int(distanceone) - int(distancetwo) #in km\n",
    "\n",
    "print(f\"\\nThe distance among {nameone} and {nametwo} is: \", abs(difference), \"km. \\n\")\n",
    "print(\"The last value equals to: \", abs(round((difference*0.621371), 2)), \" miles. \\n\" )"
   ]
  }
 ],
 "metadata": {
  "interpreter": {
   "hash": "4377b27f8e4686739d02d62161872a63796ae6f0ed9f0699fce35597ef48d50c"
  },
  "kernelspec": {
   "display_name": "Python 3.10.1 64-bit",
   "language": "python",
   "name": "python3"
  },
  "language_info": {
   "codemirror_mode": {
    "name": "ipython",
    "version": 3
   },
   "file_extension": ".py",
   "mimetype": "text/x-python",
   "name": "python",
   "nbconvert_exporter": "python",
   "pygments_lexer": "ipython3",
   "version": "3.10.1"
  },
  "orig_nbformat": 4
 },
 "nbformat": 4,
 "nbformat_minor": 2
}
